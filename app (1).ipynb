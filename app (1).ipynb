{
 "cells": [
  {
   "cell_type": "code",
   "execution_count": 1,
   "metadata": {},
   "outputs": [],
   "source": [
    "from PIL import Image\n",
    "import numpy as np\n",
    "from flask import Flask, request, jsonify\n",
    "import tensorflow as tf\n",
    "from tensorflow.keras.applications.mobilenet_v2 import preprocess_input"
   ]
  },
  {
   "cell_type": "code",
   "execution_count": 2,
   "metadata": {},
   "outputs": [
    {
     "name": "stdout",
     "output_type": "stream",
     "text": [
      "WARNING:tensorflow:No training configuration found in save file, so the model was *not* compiled. Compile it manually.\n"
     ]
    }
   ],
   "source": [
    "app = Flask(__name__)\n",
    "model = tf.keras.models.load_model(\"model\")\n",
    "normal_vector = np.load(\"normal_vector.npy\")\n",
    "input_shape = (112, 112)"
   ]
  },
  {
   "cell_type": "code",
   "execution_count": 4,
   "metadata": {},
   "outputs": [],
   "source": [
    "def prepare_img(img_file):\n",
    "    img = Image.open(img_file.stream)\n",
    "    img = np.array(img)\n",
    "    img = np.expand_dims(img, axis=2)\n",
    "    img = tf.image.resize(img, input_shape)\n",
    "    img = preprocess_input(img)\n",
    "    return img.numpy()\n",
    "    "
   ]
  },
  {
   "cell_type": "code",
   "execution_count": 5,
   "metadata": {},
   "outputs": [],
   "source": [
    "def predict_class(test_data, normal_template_vector, therashold):\n",
    "    \"\"\"\n",
    "    test_data: each row represent feature vector of a photo\n",
    "    \n",
    "    \"\"\"\n",
    "    sim = np.dot(test_data, normal_template_vector)\n",
    "    return (sim < therashold).astype(int) # true for an anomaly "
   ]
  },
  {
   "cell_type": "code",
   "execution_count": 6,
   "metadata": {},
   "outputs": [],
   "source": [
    "@app.route('/predict',methods=['POST'])\n",
    "def predict():\n",
    "    '''\n",
    "    For direct API calls trought request\n",
    "    '''\n",
    "    # read and preprocess images\n",
    "    imgs = request.files\n",
    "    imgs_lst = imgs.to_dict(flat=False)['image']\n",
    "    \n",
    "    processed_imgs = []\n",
    "    for img in imgs_lst:\n",
    "        processed_imgs.append(prepare_img(img))\n",
    "\n",
    "    processed_imgs = np.array(processed_imgs)\n",
    "    \n",
    "    # get the l2 normalized 512- dimensional feature representations of the images. \n",
    "    feature_vectors = model.predict(processed_imgs)\n",
    "    \n",
    "    #predict\n",
    "    prediction = predict_class(feature_vectors, normal_vector, 0.81)\n",
    "    \n",
    "    return jsonify({'result': prediction.tolist()})\n"
   ]
  },
  {
   "cell_type": "code",
   "execution_count": null,
   "metadata": {},
   "outputs": [
    {
     "name": "stdout",
     "output_type": "stream",
     "text": [
      " * Serving Flask app '__main__' (lazy loading)\n",
      " * Environment: production\n",
      "\u001b[31m   WARNING: This is a development server. Do not use it in a production deployment.\u001b[0m\n",
      "\u001b[2m   Use a production WSGI server instead.\u001b[0m\n",
      " * Debug mode: off\n"
     ]
    },
    {
     "name": "stderr",
     "output_type": "stream",
     "text": [
      " * Running on http://127.0.0.1:5000/ (Press CTRL+C to quit)\n",
      "127.0.0.1 - - [31/Dec/2021 22:23:47] \"POST /predict HTTP/1.1\" 200 -\n"
     ]
    }
   ],
   "source": [
    "if __name__ == \"__main__\":\n",
    "    app.run(debug=False)"
   ]
  },
  {
   "cell_type": "code",
   "execution_count": null,
   "metadata": {},
   "outputs": [],
   "source": []
  },
  {
   "cell_type": "code",
   "execution_count": null,
   "metadata": {},
   "outputs": [],
   "source": []
  },
  {
   "cell_type": "code",
   "execution_count": null,
   "metadata": {},
   "outputs": [],
   "source": []
  },
  {
   "cell_type": "code",
   "execution_count": null,
   "metadata": {},
   "outputs": [],
   "source": []
  }
 ],
 "metadata": {
  "kernelspec": {
   "display_name": "Python 3",
   "language": "python",
   "name": "python3"
  },
  "language_info": {
   "codemirror_mode": {
    "name": "ipython",
    "version": 3
   },
   "file_extension": ".py",
   "mimetype": "text/x-python",
   "name": "python",
   "nbconvert_exporter": "python",
   "pygments_lexer": "ipython3",
   "version": "3.8.5"
  }
 },
 "nbformat": 4,
 "nbformat_minor": 5
}
